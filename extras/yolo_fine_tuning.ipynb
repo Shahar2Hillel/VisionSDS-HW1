{
  "cells": [
    {
      "cell_type": "markdown",
      "metadata": {},
      "source": [
        "** This is a research notebook for the functionalities listed in the report"
      ]
    },
    {
      "cell_type": "code",
      "execution_count": null,
      "metadata": {
        "colab": {
          "base_uri": "https://localhost:8080/"
        },
        "id": "pTgS1D3woP-e",
        "outputId": "95942c22-8edc-4ee0-a582-cc8da1b72d28"
      },
      "outputs": [],
      "source": [
        "# !pip install -q ultralytics torch torchvision matplotlib albumentations optuna\n",
        "# ! pip install numpy==1.26.4"
      ]
    },
    {
      "cell_type": "code",
      "execution_count": null,
      "metadata": {
        "colab": {
          "base_uri": "https://localhost:8080/"
        },
        "id": "9SyKmKEfoGCS",
        "outputId": "b1794a1e-69bf-4743-e975-2409e3562690"
      },
      "outputs": [],
      "source": [
        "import os\n",
        "import cv2\n",
        "import yaml\n",
        "import optuna\n",
        "import pandas as pd\n",
        "import matplotlib.pyplot as plt\n",
        "\n",
        "from tqdm import tqdm\n",
        "from ultralytics import YOLO"
      ]
    },
    {
      "cell_type": "code",
      "execution_count": null,
      "metadata": {
        "id": "_U4kkLQOo77m"
      },
      "outputs": [],
      "source": [
        "# MODEL_PATH = '/content/drive/MyDrive/data/vision_in_surgery/hw1_2'\n",
        "MODEL_PATH = 'models'\n",
        "os.environ['ULTRALYTICS_HUB_DIR'] = MODEL_PATH # Set the custom path\n",
        "os.makedirs(MODEL_PATH, exist_ok=True) # Create the directory if it doesn't exist"
      ]
    },
    {
      "cell_type": "code",
      "execution_count": null,
      "metadata": {},
      "outputs": [],
      "source": [
        "! ls /datashare/HW1"
      ]
    },
    {
      "cell_type": "code",
      "execution_count": null,
      "metadata": {
        "id": "q6reZEEgoTQC"
      },
      "outputs": [],
      "source": [
        "# DATA_ROOT = \"/content/drive/MyDrive/data/vision_in_surgery/hw1_2/HW1/labeled_image_data\"\n",
        "DATA_ROOT = \"/datashare/HW1/labeled_image_data\"\n",
        "classes_path = os.path.join(DATA_ROOT, \"classes.txt\")\n",
        "with open(classes_path, \"r\") as f:\n",
        "    class_names = [line.strip() for line in f if line.strip()]"
      ]
    },
    {
      "cell_type": "code",
      "execution_count": null,
      "metadata": {
        "id": "PlaQMP6goTOA"
      },
      "outputs": [],
      "source": [
        "data_dict = {\n",
        "    \"train\": os.path.join(DATA_ROOT, \"images\", \"train\"),\n",
        "    \"val\": os.path.join(DATA_ROOT, \"images\", \"val\"),\n",
        "    \"nc\": len(class_names),\n",
        "    \"names\": class_names\n",
        "}\n",
        "data_yaml_path = os.path.join( \"data.yaml\")\n",
        "\n",
        "# data_yaml_path = os.path.join(DATA_ROOT, \"data.yaml\")\n",
        "# with open(data_yaml_path, \"w\") as f:\n",
        "#     yaml.safe_dump(data_dict, f, sort_keys=False)"
      ]
    },
    {
      "cell_type": "markdown",
      "metadata": {
        "id": "PlaQMP6goTOA"
      },
      "source": [
        "# Find Tune On Labeled images"
      ]
    },
    {
      "cell_type": "code",
      "execution_count": null,
      "metadata": {
        "colab": {
          "base_uri": "https://localhost:8080/"
        },
        "id": "n_rQzPJgoTML",
        "outputId": "0932a328-9d6d-4bc0-93d7-49c5ca9160eb"
      },
      "outputs": [],
      "source": [
        "model = YOLO(\"yolov8n.pt\")"
      ]
    },
    {
      "cell_type": "code",
      "execution_count": null,
      "metadata": {
        "colab": {
          "base_uri": "https://localhost:8080/"
        },
        "id": "cZC5WIVOoSjs",
        "outputId": "29890b05-e7b4-4c27-d6bd-e8323c284775"
      },
      "outputs": [],
      "source": [
        "model.train(\n",
        "    data=data_yaml_path,    # path to data.yaml\n",
        "    epochs=50,              # number of epochs\n",
        "    imgsz=640,              # training image size (pixels)\n",
        "    batch=16,               # batch size (adjust to your GPU)\n",
        "    lr0=1e-3,               # initial learning rate\n",
        "    project=f\"{MODEL_PATH}/runs/finetune\",# where to save runs\n",
        "    name=\"yolov8_finetuned\",# run name\n",
        "    verbose=True\n",
        ")"
      ]
    },
    {
      "cell_type": "markdown",
      "metadata": {
        "id": "Jg2O30-hmQ4V"
      },
      "source": [
        "#### optuna"
      ]
    },
    {
      "cell_type": "code",
      "execution_count": null,
      "metadata": {
        "id": "1Us-J7ZxmPD9"
      },
      "outputs": [],
      "source": [
        "def objective(trial):\n",
        "    lr0 = trial.suggest_loguniform(\"lr0\", 1e-4, 1e-2)\n",
        "    momentum = trial.suggest_uniform(\"momentum\", 0.6, 0.95)\n",
        "    weight_decay = trial.suggest_loguniform(\"weight_decay\", 1e-5, 1e-2)\n",
        "    batch = trial.suggest_categorical(\"batch\", [8, 16, 32])\n",
        "    epochs = 10  # short runs for search\n",
        "\n",
        "    # 3.2 train\n",
        "    model = YOLO(\"yolov8n.pt\")\n",
        "    model.train(\n",
        "        data=data_yaml_path,    # path to data.yaml\n",
        "        epochs=epochs,              # number of epochs\n",
        "        imgsz=640,              # training image size (pixels)\n",
        "        batch=batch,               # batch size (adjust to your GPU)\n",
        "        lr0=lr0,\n",
        "        momentum=momentum,\n",
        "        weight_decay=weight_decay,\n",
        "        project=f\"{MODEL_PATH}/runs/optuna\",# where to save runs\n",
        "        name=f\"yolov8_finetuned_trial{trial.number}\",# run name\n",
        "        verbose=True\n",
        "        )\n",
        "\n",
        "    # 3.3 read final mAP50 from metrics.csv\n",
        "    results_path = os.path.join(f\"{MODEL_PATH}/runs/optuna\", f\"yolov8_finetuned_trial{trial.number}\", \"results.csv\")\n",
        "\n",
        "    df = pd.read_csv(results_path)\n",
        "    # take the mAP50 of the last epoch\n",
        "    last_map50 = df.loc[df.epoch == df.epoch.max(), \"metrics/mAP50(B)\"].values[0]\n",
        "    return last_map50"
      ]
    },
    {
      "cell_type": "code",
      "execution_count": null,
      "metadata": {
        "colab": {
          "base_uri": "https://localhost:8080/"
        },
        "id": "rRHchFh_mPB3",
        "outputId": "cd73451b-e1e1-45e0-d52d-98945d17acc9"
      },
      "outputs": [],
      "source": [
        "study = optuna.create_study(direction=\"maximize\")\n",
        "study.optimize(objective, n_trials=20, timeout=2*60*60)\n",
        "print(\"Best trial:\")\n",
        "trial = study.best_trial\n",
        "for key, val in trial.params.items():\n",
        "    print(f\"  {key}: {val}\")\n",
        "print(f\"  mAP50: {trial.value:.4f}\")"
      ]
    },
    {
      "cell_type": "code",
      "execution_count": null,
      "metadata": {
        "colab": {
          "base_uri": "https://localhost:8080/"
        },
        "id": "WkeKR-8ezjQV",
        "outputId": "bc9dccfb-3706-4637-8dc4-9a8cee70d6fd"
      },
      "outputs": [],
      "source": [
        "best_params = trial.params\n",
        "best_params.update({\"epochs\": 75,\n",
        "                    \"project\": f\"{MODEL_PATH}/runs/optuna\",\n",
        "                    \"name\": \"best_full\"})\n",
        "model.train(data=data_yaml_path,\n",
        "            imgsz=640,\n",
        "            verbose=True,\n",
        "            **best_params)"
      ]
    },
    {
      "cell_type": "code",
      "execution_count": null,
      "metadata": {
        "id": "P57Oqjj31gmi"
      },
      "outputs": [],
      "source": [
        "!cp -r {MODEL_PATH}/runs/optuna/ ."
      ]
    },
    {
      "cell_type": "markdown",
      "metadata": {
        "id": "e2CsKEdEyOIn"
      },
      "source": [
        "# Psudo Labels on In Distribusion Video"
      ]
    },
    {
      "cell_type": "code",
      "execution_count": null,
      "metadata": {
        "id": "YWPH0o9d05Ms"
      },
      "outputs": [],
      "source": [
        "SKIP_FRAMES = 5 # For speed skip some frames"
      ]
    },
    {
      "cell_type": "code",
      "execution_count": null,
      "metadata": {
        "id": "96kdeTuxz-1A"
      },
      "outputs": [],
      "source": [
        "PSUDO_PATH = f\"{MODEL_PATH}/pseudo_labels\"\n",
        "FRAME_SAVE_DIR = f\"{PSUDO_PATH}/images\"\n",
        "LABEL_SAVE_DIR = f\"{PSUDO_PATH}/labels\"\n",
        "\n",
        "os.makedirs(FRAME_SAVE_DIR, exist_ok=True)\n",
        "os.makedirs(LABEL_SAVE_DIR, exist_ok=True)"
      ]
    },
    {
      "cell_type": "markdown",
      "metadata": {
        "id": "BKC7af-88pIH"
      },
      "source": [
        "### utils functions"
      ]
    },
    {
      "cell_type": "code",
      "execution_count": null,
      "metadata": {
        "id": "EngRX2nP8o8t"
      },
      "outputs": [],
      "source": [
        "def filter_bboxes(results, conf_threshold):\n",
        "    high_conf_boxes = []\n",
        "    high_conf_classes = []\n",
        "    high_conf_scores = []\n",
        "    for box in results.boxes:\n",
        "      conf = float(box.conf.cpu().numpy())\n",
        "      if conf > conf_threshold:\n",
        "        x1, y1, x2, y2 = map(float, box.xyxy.cpu().numpy().reshape(-1).tolist())\n",
        "        cls_idx = int(box.cls.cpu().numpy())\n",
        "        high_conf_boxes.append((x1, y1, x2, y2))\n",
        "        high_conf_classes.append(cls_idx)\n",
        "        high_conf_scores.append(conf)\n",
        "    if len(high_conf_boxes) < len(results):\n",
        "      # If no boxes pass the threshold, return empty lists\n",
        "      return [], [], []\n",
        "    return high_conf_boxes, high_conf_classes, high_conf_scores\n",
        "\n",
        "\n",
        "def save_frame(frame, frame_idx, frame_save_dir, names_prefix):\n",
        "    img_filename = f\"{names_prefix}_{frame_idx:06d}.jpg\"  # e.g. 000123.jpg\n",
        "    img_path = os.path.join(frame_save_dir, img_filename)\n",
        "    cv2.imwrite(img_path, frame)\n",
        "    return img_filename\n",
        "\n",
        "def save_label(frame_idx,\n",
        "               high_conf_boxes,\n",
        "               high_conf_classes,\n",
        "               high_conf_scores,\n",
        "               W,\n",
        "               H,\n",
        "               label_save_dir,\n",
        "               names_prefix):\n",
        "    label_filename = f\"{names_prefix}_{frame_idx:06d}.txt\"\n",
        "    label_path = os.path.join(label_save_dir, label_filename)\n",
        "    with open(label_path, \"w\") as f_label:\n",
        "      for (x1, y1, x2, y2), cls_idx in zip(high_conf_boxes, high_conf_classes):\n",
        "        # Convert [x1,y1,x2,y2] to normalized [x_center, y_center, w, h]\n",
        "        box_w = x2 - x1\n",
        "        box_h = y2 - y1\n",
        "        x_center = x1 + box_w / 2\n",
        "        y_center = y1 + box_h / 2\n",
        "\n",
        "        # Normalize by image width/height\n",
        "        x_c_norm = x_center / W\n",
        "        y_c_norm = y_center / H\n",
        "        w_norm = box_w / W\n",
        "        h_norm = box_h / H\n",
        "\n",
        "        # Write line: \"class_idx x_center y_center w h\"\n",
        "        f_label.write(f\"{cls_idx} {x_c_norm:.6f} {y_c_norm:.6f} \"\n",
        "                      f\"{w_norm:.6f} {h_norm:.6f}\\n\")\n",
        "\n",
        "    return label_filename"
      ]
    },
    {
      "cell_type": "markdown",
      "metadata": {
        "id": "yDvtWOY88mTK"
      },
      "source": [
        "## Find tuning"
      ]
    },
    {
      "cell_type": "code",
      "execution_count": null,
      "metadata": {
        "id": "ADtN5aW6yN0L"
      },
      "outputs": [],
      "source": [
        "# model = YOLO(f\"{MODEL_PATH}/runs/optuna/best_full/weights/best.pt\")\n",
        "model = YOLO(\"fine_tune_best.pt\")"
      ]
    },
    {
      "cell_type": "code",
      "execution_count": null,
      "metadata": {
        "colab": {
          "base_uri": "https://localhost:8080/"
        },
        "id": "txV_rMByyNyL",
        "outputId": "666d549c-1337-4239-f2ca-977606af4213"
      },
      "outputs": [],
      "source": [
        "cap = cv2.VideoCapture(f\"{MODEL_PATH}/HW1/id_video_data/20_2_24_1.mp4\")\n",
        "total_frames = int(cap.get(cv2.CAP_PROP_FRAME_COUNT))\n",
        "total_frames"
      ]
    },
    {
      "cell_type": "code",
      "execution_count": null,
      "metadata": {
        "id": "J2_8X3j9MFlK"
      },
      "outputs": [],
      "source": [
        "def cluster_feature_extraction(frame):\n",
        "  small = cv2.resize(frame, (224, 224), interpolation=cv2.INTER_AREA)\n",
        "  hsv = cv2.cvtColor(small, cv2.COLOR_BGR2HSV)\n",
        "  hist = cv2.calcHist(\n",
        "      [hsv], [0, 1, 2], None,\n",
        "      (8, 8, 8),  # e.g. (8,8,8) bins\n",
        "      [0, 180, 0, 256, 0, 256]\n",
        "  )\n",
        "  hist = cv2.normalize(hist, hist).flatten()\n",
        "  return hist"
      ]
    },
    {
      "cell_type": "code",
      "execution_count": null,
      "metadata": {
        "id": "haHx9d1_4j49"
      },
      "outputs": [],
      "source": [
        "def create_pseudo_labels(model_path, video_path, conf_threshold, output_path=PSUDO_PATH):\n",
        "  names_prefix = video_path.split('/')[-1].split('.')[0]\n",
        "  frame_output_dir = f\"{output_path}/images\"\n",
        "  label_output_dir = f\"{output_path}/labels\"\n",
        "  os.makedirs(frame_output_dir, exist_ok=True)\n",
        "  os.makedirs(label_output_dir, exist_ok=True)\n",
        "\n",
        "  model = YOLO(model_path)\n",
        "  clustering_featuers = []\n",
        "  cap = cv2.VideoCapture(video_path)\n",
        "  total_frames = int(cap.get(cv2.CAP_PROP_FRAME_COUNT))\n",
        "  print(f\"Total frames: {total_frames}\")\n",
        "  with tqdm(total=total_frames // SKIP_FRAMES + 1, desc=\"Frames processed\") as pbar:\n",
        "    frame_idx = 0\n",
        "    while True:\n",
        "      ret, frame = cap.read()\n",
        "      if not ret:\n",
        "        break\n",
        "\n",
        "      if frame_idx % SKIP_FRAMES != 0:\n",
        "        frame_idx += 1\n",
        "        continue\n",
        "\n",
        "      H, W = frame.shape[:2]\n",
        "\n",
        "      results = model(frame, verbose=False)\n",
        "      results = results[0]\n",
        "\n",
        "      high_conf_boxes, high_conf_classes, high_conf_scores = filter_bboxes(results, conf_threshold)\n",
        "\n",
        "      if len(high_conf_boxes) == 0:\n",
        "              frame_idx += 1\n",
        "              pbar.update(1)\n",
        "              continue\n",
        "\n",
        "      img_filename = save_frame(frame, frame_idx, frame_output_dir, names_prefix)\n",
        "      label_filename = save_label(frame_idx,\n",
        "                                  high_conf_boxes,\n",
        "                                  high_conf_classes,\n",
        "                                  high_conf_scores,\n",
        "                                  W,\n",
        "                                  H,\n",
        "                                  label_output_dir,\n",
        "                                  names_prefix)\n",
        "\n",
        "\n",
        "      clustering_featuers.append((img_filename,\n",
        "                                  label_filename,\n",
        "                                  cluster_feature_extraction(frame)))\n",
        "\n",
        "      frame_idx += 1\n",
        "      pbar.update(1)\n",
        "\n",
        "  cap.release()\n",
        "  return clustering_featuers"
      ]
    },
    {
      "cell_type": "markdown",
      "metadata": {
        "id": "tl1OFiXV6RHp"
      },
      "source": [
        "### Fine tune on Psudo labels"
      ]
    },
    {
      "cell_type": "code",
      "execution_count": null,
      "metadata": {
        "id": "vjDaYQyw7SHZ"
      },
      "outputs": [],
      "source": [
        "def fine_tune_on_psudo_labels(model_path, psudo_labels_path, name):\n",
        "  model = YOLO(model_path)\n",
        "  psudo_data_dict = {\n",
        "    # \"train\": f\"{psudo_labels_path}/images\",\n",
        "    \"train\": f\"images\",\n",
        "    \"val\": os.path.join(\"../../../models/pseudo_labels/validation_labeled/images\"),\n",
        "    \"nc\": len(class_names),\n",
        "    \"names\": class_names,\n",
        "    }\n",
        "\n",
        "  psudo_data_yaml_path = os.path.join(psudo_labels_path, \"data.yaml\")\n",
        "  with open(psudo_data_yaml_path, \"w\") as f:\n",
        "      yaml.safe_dump(psudo_data_dict, f, sort_keys=False)\n",
        "\n",
        "  results = model.train(\n",
        "          data=psudo_data_yaml_path,    # path to data.yaml\n",
        "          epochs=100,              # number of epochs\n",
        "          imgsz=640,              # training image size (pixels)\n",
        "          batch=16,               # batch size (adjust to your GPU)\n",
        "          lr0=1e-3,               # initial learning rate\n",
        "          project=f\"{MODEL_PATH}/runs/psudo\",# where to save runs\n",
        "          name=name,# run name\n",
        "          verbose=False,\n",
        "          pretrained=True)\n",
        "  return results"
      ]
    },
    {
      "cell_type": "code",
      "execution_count": null,
      "metadata": {
        "colab": {
          "base_uri": "https://localhost:8080/"
        },
        "collapsed": true,
        "id": "WtaYHnO18Kwp",
        "outputId": "0efe9a4e-3f41-49f2-c2b0-a9612eee1f83"
      },
      "outputs": [],
      "source": [
        "# model = fine_tune_on_psudo_labels(f\"{MODEL_PATH}/runs/optuna/best_full/weights/best.pt\", f'{PSUDO_PATH}/testing')"
      ]
    },
    {
      "cell_type": "markdown",
      "metadata": {
        "id": "NsYCZEnUmndP"
      },
      "source": [
        "## Iterative Pseudo Labeling"
      ]
    },
    {
      "cell_type": "code",
      "execution_count": null,
      "metadata": {},
      "outputs": [],
      "source": [
        "\n",
        "conf_thresholds = [0.5, 0.6, 0.7, 0.8]\n",
        "\n",
        "# best_model_path = f\"{MODEL_PATH}/runs/optuna/best_full/weights/best.pt\"\n",
        "# model_path = f\"{MODEL_PATH}/runs/optuna/best_full/weights/best.pt\"\n",
        "# video_path1 = f\"{MODEL_PATH}/HW1/id_video_data/20_2_24_1.mp4\"\n",
        "# video_path2 = f\"{MODEL_PATH}/HW1/id_video_data/4_2_24_B_2.mp4\"\n",
        "\n",
        "model_path = f\"fine_tune_best.pt\"\n",
        "video_path1 = f\"/datashare/HW1/id_video_data/20_2_24_1.mp4\"\n",
        "video_path2 = f\"/datashare/HW1/id_video_data/4_2_24_B_2.mp4\"\n",
        "original_images_path = f\"{DATA_ROOT}/images/train\"\n",
        "original_labels_path = f\"{DATA_ROOT}/labels/train\""
      ]
    },
    {
      "cell_type": "code",
      "execution_count": null,
      "metadata": {
        "colab": {
          "base_uri": "https://localhost:8080/"
        },
        "collapsed": true,
        "id": "AOkFwP8Q6Q2x",
        "outputId": "352ab758-334a-4481-e019-af1d3f90e850"
      },
      "outputs": [],
      "source": [
        "# create psudo dataset for each threshold:\n",
        "for i, conf_threshold in enumerate(conf_thresholds):\n",
        "  print(f\"conf_threshold: {conf_threshold}\")\n",
        "  name = f\"run_{i}_conf_threshold_{conf_threshold}\"\n",
        "  output_path = f\"{PSUDO_PATH}/{name}\"\n",
        "  for video_path in [video_path1, video_path2]:\n",
        "    clustering_featuers = create_pseudo_labels(model_path,\n",
        "                                              video_path,\n",
        "                                              conf_threshold,\n",
        "                                              output_path)"
      ]
    },
    {
      "cell_type": "code",
      "execution_count": null,
      "metadata": {},
      "outputs": [],
      "source": [
        "# fine tune model on psudo labeled data\n",
        "results_history = []\n",
        "\n",
        "for i, conf_threshold in enumerate(conf_thresholds):\n",
        "  print(f\"conf_threshold: {conf_threshold}\")\n",
        "  name = f\"run_{i}_conf_threshold_{conf_threshold}\"\n",
        "  output_path = f\"{PSUDO_PATH}/{name}\"\n",
        "  model_path = f\"{MODEL_PATH}/runs/psudo/{name}/weights/best.pt\"\n",
        "  best_model_path = model_path if os.path.exists(model_path) else \"fine_tune_best.pt\"\n",
        "  results = fine_tune_on_psudo_labels(best_model_path, output_path, name)\n",
        "  results_history.append((name, results))\n",
        "  "
      ]
    },
    {
      "cell_type": "code",
      "execution_count": null,
      "metadata": {},
      "outputs": [],
      "source": []
    },
    {
      "cell_type": "code",
      "execution_count": null,
      "metadata": {},
      "outputs": [],
      "source": [
        "results_history = []\n",
        "for i, conf_threshold in enumerate(conf_thresholds):\n",
        "  print(f\"conf_threshold: {conf_threshold}\")\n",
        "  name = f\"run_{i}_conf_threshold_{conf_threshold}\"\n",
        "  output_path = f\"{PSUDO_PATH}/{name}\"\n",
        "  model = YOLO(f\"{MODEL_PATH}/runs/psudo/{name}/weights/best.pt\")\n",
        "  data_yaml_path = f'{output_path}/data.yaml'\n",
        "  results = model.val(data=data_yaml_path, imgsz=640, verbose=True)\n",
        "  results_history.append((name, results))"
      ]
    },
    {
      "cell_type": "code",
      "execution_count": null,
      "metadata": {
        "id": "yWs1QwAgofrK"
      },
      "outputs": [],
      "source": [
        "# aggregate results\n",
        "names = list(map(lambda x: x[0], results_history))\n",
        "aps = list(map(lambda x: x[1].box.map50, results_history))\n",
        "run_num = list(map(lambda x: float(x.split('_')[1]), names))\n",
        "conf_thresholds = list(map(lambda x: float(x.split('_')[-1]), names))\n",
        "mrs = list(map(lambda x: x[1].box.mr, results_history))"
      ]
    },
    {
      "cell_type": "code",
      "execution_count": null,
      "metadata": {},
      "outputs": [],
      "source": [
        "# plot results\n",
        "\n",
        "# Create the plot\n",
        "plt.figure(figsize=(10, 6))\n",
        "\n",
        "# Plot mAP50\n",
        "plt.plot(run_num, aps, label='mAP50', marker='o')\n",
        "for i, txt in enumerate(conf_thresholds):\n",
        "    plt.annotate(f'conf={txt}', (run_num[i], aps[i]), textcoords=\"offset points\", xytext=(0,10), ha='center')\n",
        "\n",
        "# Plot Mean Recall\n",
        "plt.plot(run_num, mrs, label='Mean Recall', marker='s')\n",
        "for i, txt in enumerate(conf_thresholds):\n",
        "    plt.annotate(f'conf={txt}', (run_num[i], mrs[i]), textcoords=\"offset points\", xytext=(0,-15), ha='center')\n",
        "\n",
        "# Labels and title\n",
        "plt.xlabel('Run Number')\n",
        "plt.ylabel('Score')\n",
        "plt.title('mAP50 and Mean Recall vs Run Number')\n",
        "plt.legend()\n",
        "plt.grid(True)\n",
        "\n",
        "# Save and show\n",
        "plt.savefig('mean_recall_map50_vs_run_num.png')\n",
        "plt.show()\n"
      ]
    }
  ],
  "metadata": {
    "accelerator": "GPU",
    "colab": {
      "collapsed_sections": [
        "BKC7af-88pIH",
        "z9sriBOLLtwr",
        "4v5kkYXclbj0"
      ],
      "gpuType": "A100",
      "machine_shape": "hm",
      "provenance": []
    },
    "kernelspec": {
      "display_name": "azureml_py38",
      "language": "python",
      "name": "python3"
    },
    "language_info": {
      "codemirror_mode": {
        "name": "ipython",
        "version": 3
      },
      "file_extension": ".py",
      "mimetype": "text/x-python",
      "name": "python",
      "nbconvert_exporter": "python",
      "pygments_lexer": "ipython3",
      "version": "3.10.16"
    }
  },
  "nbformat": 4,
  "nbformat_minor": 0
}
